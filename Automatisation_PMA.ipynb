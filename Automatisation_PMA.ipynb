{
  "nbformat": 4,
  "nbformat_minor": 0,
  "metadata": {
    "colab": {
      "provenance": [],
      "collapsed_sections": []
    },
    "kernelspec": {
      "name": "python3",
      "display_name": "Python 3"
    },
    "language_info": {
      "name": "python"
    }
  },
  "cells": [
    {
      "cell_type": "markdown",
      "source": [
        "Importation des modules nécessaires. Puis upload des fichiers à traiter"
      ],
      "metadata": {
        "id": "OEsO3MWR1Ltq"
      }
    },
    {
      "cell_type": "code",
      "execution_count": null,
      "metadata": {
        "colab": {
          "resources": {
            "http://localhost:8080/nbextensions/google.colab/files.js": {
              "data": "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",
              "ok": true,
              "headers": [
                [
                  "content-type",
                  "application/javascript"
                ]
              ],
              "status": 200,
              "status_text": "OK"
            }
          },
          "base_uri": "https://localhost:8080/",
          "height": 38
        },
        "id": "siUBI16E5AKj",
        "outputId": "4adb5fa0-a066-4fee-e990-463b8f5cf323"
      },
      "outputs": [
        {
          "output_type": "display_data",
          "data": {
            "text/plain": [
              "<IPython.core.display.HTML object>"
            ],
            "text/html": [
              "\n",
              "     <input type=\"file\" id=\"files-deafa6a1-74b6-4579-9e7e-b965e5d8c8f7\" name=\"files[]\" multiple disabled\n",
              "        style=\"border:none\" />\n",
              "     <output id=\"result-deafa6a1-74b6-4579-9e7e-b965e5d8c8f7\">\n",
              "      Upload widget is only available when the cell has been executed in the\n",
              "      current browser session. Please rerun this cell to enable.\n",
              "      </output>\n",
              "      <script src=\"/nbextensions/google.colab/files.js\"></script> "
            ]
          },
          "metadata": {}
        }
      ],
      "source": [
        "import pandas as pd\n",
        "from google.colab import files\n",
        "\n",
        "extraction = files.upload()\n",
        "\n",
        "\n",
        "        "
      ]
    },
    {
      "cell_type": "markdown",
      "source": [
        "Définition des variables globales"
      ],
      "metadata": {
        "id": "p8Id-GHn1aRO"
      }
    },
    {
      "cell_type": "code",
      "source": [
        "DATE1=\"2022-04-01\"\n",
        "DATE2=\"2022-04-30\"\n",
        "\n",
        "data = pd.read_excel(\"Extraction_1_PMA.xlsx\", index_col=\"Ordre\", parse_dates=True)"
      ],
      "metadata": {
        "id": "2NSocKHy5bm0"
      },
      "execution_count": null,
      "outputs": []
    },
    {
      "cell_type": "markdown",
      "source": [
        "Renommage de certaines colonnes puis filtrage des ordres de travail selon les dates données au début"
      ],
      "metadata": {
        "id": "X6Uu-qGd1r8V"
      }
    },
    {
      "cell_type": "code",
      "source": [
        "data = data.rename(columns={'Date début plf': 'Date_début_plf' , \n",
        "                            'Poste technique': 'Departement', \n",
        "                            'Grpe gest. PM': 'Groupe_Gestionnaire',\n",
        "                            'Statut util.' : 'Etat_OT'})\n",
        "\n",
        "\n",
        "data = data[(data.Date_début_plf>=DATE1) & (data.Date_début_plf<=DATE2)]\n",
        "\n"
      ],
      "metadata": {
        "id": "03o-7BdV5ioz"
      },
      "execution_count": null,
      "outputs": []
    },
    {
      "cell_type": "markdown",
      "source": [
        "Repérer les OT sans département."
      ],
      "metadata": {
        "id": "pfQhMpYt1_iN"
      }
    },
    {
      "cell_type": "code",
      "source": [
        "data[\"Departement\"].fillna(\"XXXXXXXX\", inplace = True)"
      ],
      "metadata": {
        "id": "-MSkzElT5-PU"
      },
      "execution_count": null,
      "outputs": []
    },
    {
      "cell_type": "code",
      "source": [
        "data = data.dropna(subset=['Departement','Etat_OT'])"
      ],
      "metadata": {
        "id": "El0YtiGA6B4y"
      },
      "execution_count": null,
      "outputs": []
    },
    {
      "cell_type": "markdown",
      "source": [
        "Retrait des OT du département D car gérés par la MC. Puis renommage des départements selon leurs initiales."
      ],
      "metadata": {
        "id": "UYgJO9ux2KEk"
      }
    },
    {
      "cell_type": "code",
      "source": [
        "for i in data.index:\n",
        "    if(data.loc[i,'Departement'][5]== ('D')):\n",
        "        data.drop(i, axis=0,inplace=True)\n",
        "    else:\n",
        "        data.at[i,'Departement'] = data.loc[i,'Departement'][5]\n"
      ],
      "metadata": {
        "id": "oyp7Zs-j6E40"
      },
      "execution_count": null,
      "outputs": []
    },
    {
      "cell_type": "markdown",
      "source": [
        "Tableau croisé des OT selon leurs départements et leurs états."
      ],
      "metadata": {
        "id": "fjqQqBnj2sve"
      }
    },
    {
      "cell_type": "code",
      "source": [
        "a = data.groupby(['Departement','Etat_OT']).Etat_OT.count()\n",
        "tab_crois = a.unstack(fill_value=0)\n",
        "tab_crois.loc['Total_Général_colonne']= tab_crois.sum(numeric_only=True, axis=0)\n",
        "tab_crois.loc[:,'Total_Général_ligne'] = tab_crois.sum(numeric_only=True, axis=1)\n",
        "\n",
        "\n"
      ],
      "metadata": {
        "id": "uzhRtd0g7Yb_"
      },
      "execution_count": null,
      "outputs": []
    },
    {
      "cell_type": "markdown",
      "source": [
        "Chercher les départements sans OT pour la période donnée puis les rajouter au compte afin de le noter sur le rapport final.(X étant les OT sans département)"
      ],
      "metadata": {
        "id": "xFwTEtUG2_oB"
      }
    },
    {
      "cell_type": "code",
      "source": [
        "Etat_possible=[\"0\",\"1\",\"1_AA\",\"1_AM\",\"1_AP\",\"1_AR\",\"2\",\"3\",\"3_I\",\"3_N\",\"3_T\"]\n",
        "Etat_manquant = []\n",
        "for element in Etat_possible:\n",
        "    if element not in tab_crois:\n",
        "        Etat_manquant.append(element)\n",
        "\n",
        "Etat_manquant\n",
        "for i in Etat_manquant:\n",
        "    tab_crois[i]=0\n",
        "\n",
        "Depart_possible=[\"E\",\"M\",\"P\",\"S\",\"T\",\"X\"]\n",
        "\n",
        "Depart_manquant = []\n",
        "for element in Depart_possible:\n",
        "    if element not in tab_crois.index:\n",
        "        Depart_manquant.append(element)\n",
        "\n",
        "Depart_manquant\n",
        "\n",
        "for i in Depart_manquant:\n",
        "    tab_crois.loc[i]=0\n",
        "\n",
        "\n",
        "tab_crois"
      ],
      "metadata": {
        "id": "nV66ouxJ7vZ6"
      },
      "execution_count": null,
      "outputs": []
    },
    {
      "cell_type": "markdown",
      "source": [
        "Création d'un tableau récapitulatif donnant une synthèse plus détaillé de l'avancement des OT pour chaque département de l'usine."
      ],
      "metadata": {
        "id": "b8n2V0R23jZb"
      }
    },
    {
      "cell_type": "code",
      "source": [
        "tab_recap=a.unstack(fill_value=0)\n",
        "\n",
        "Etat_manquant = []\n",
        "for element in Etat_possible:\n",
        "    if element not in tab_recap:\n",
        "        Etat_manquant.append(element)\n",
        "\n",
        "Etat_manquant\n",
        "for i in Etat_manquant:\n",
        "    tab_recap[i]=0\n",
        "\n",
        "\n",
        "Depart_manquant = []\n",
        "for element in Depart_possible:\n",
        "    if element not in tab_recap.index:\n",
        "        Depart_manquant.append(element)\n",
        "\n",
        "Depart_manquant\n",
        "\n",
        "for i in Depart_manquant:\n",
        "    tab_recap.loc[i]=0\n",
        "\n",
        "\n",
        "tab_recap['1']+=tab_recap['1_AA']+tab_recap['1_AM']+tab_recap['1_AP']+tab_recap['1_AR']+tab_recap['2']+tab_recap['3_T']\n",
        "tab_recap = tab_recap.drop(['1_AA','1_AM','1_AP','1_AR','2','3_T'],axis=1)\n",
        "\n",
        "tab_recap.loc['Total_Général']= tab_recap.sum(numeric_only=True, axis=0)\n",
        "tab_recap.loc[:,'Total_Général'] = tab_recap.sum(numeric_only=True, axis=1)\n",
        "\n",
        "tab_recap.loc[:,'Nbr_OT_Prévues'] = tab_recap['Total_Général']-tab_recap['3_I']\n",
        "\n",
        "tab_recap = tab_recap.drop(['Total_Général'],axis=1)\n",
        "tab_recap = tab_recap.drop(['X'])\n",
        "\n",
        "tab_recap.loc[:,\"%Réalisation\"] = round(tab_recap['3']/tab_recap['Nbr_OT_Prévues']*100,0)\n",
        "\n",
        "tab_recap = tab_recap[[\"Nbr_OT_Prévues\",\"3\",\"0\",\"1\",\"3_I\",\"3_N\",\"%Réalisation\"]]\n",
        "\n",
        "tab_recap = tab_recap.rename(columns={'3': 'Soldé archivé' , \n",
        "                            '0': 'A faire', \n",
        "                            '1': 'En cours',\n",
        "                            'Nbr_OT_Prévues' : 'Nbr OT Prévues'})\n",
        "\n",
        "tab_recap = tab_recap.rename(index={'E': 'Emboutissage' , \n",
        "                            'T': 'Tôlerie', \n",
        "                            'P': 'Peinture',\n",
        "                            'S': 'Sous-ensemble',\n",
        "                            'M': 'Montage',\n",
        "                            'Total_Général': 'USINE'})\n",
        "\n",
        "tab_recap = tab_recap.T\n",
        "tab_recap = tab_recap[['Emboutissage', 'Tôlerie', 'Peinture','Sous-ensemble','Montage','USINE']]\n",
        "tab_recap = tab_recap.T\n",
        "tab_recap.fillna(0, inplace = True)\n",
        "tab_recap = tab_recap.astype('int64')\n",
        "tab_recap "
      ],
      "metadata": {
        "id": "wDCYigunZzEs"
      },
      "execution_count": null,
      "outputs": []
    },
    {
      "cell_type": "markdown",
      "source": [
        "Section consacré à la création d'un fichier Excel rassemblant toute la synthèse."
      ],
      "metadata": {
        "id": "cD8MK94m4Fo4"
      }
    },
    {
      "cell_type": "code",
      "source": [
        "import openpyxl"
      ],
      "metadata": {
        "id": "TFrcSmGcbrGd"
      },
      "execution_count": null,
      "outputs": []
    },
    {
      "cell_type": "code",
      "source": [
        "writer = pd.ExcelWriter('Synthèse_PMA.xlsx')\n",
        "tab_recap.to_excel(writer, sheet_name='tab_recap')\n",
        "tab_crois.to_excel(writer, sheet_name='tab_crois')\n",
        "writer.save()"
      ],
      "metadata": {
        "id": "Bv3CdQC3bgEZ"
      },
      "execution_count": null,
      "outputs": []
    },
    {
      "cell_type": "markdown",
      "source": [
        "Mise en forme du tableau récapitulatif selon le modèle donné."
      ],
      "metadata": {
        "id": "KurlhMpN4YmH"
      }
    },
    {
      "cell_type": "code",
      "source": [
        "workbook = openpyxl.load_workbook('Synthèse_PMA.xlsx')\n",
        "sheet = workbook['tab_recap']\n",
        "sheet.insert_rows(0)\n",
        "sheet.merge_cells('A1:H1')\n",
        "\n",
        "\n",
        "cell_1_1=sheet.cell(1, 1)\n",
        "cell_1_1.value = 'Avancement PMA entre '+DATE1+\" et \"+DATE2\n",
        "cell_1_1.fill=openpyxl.styles.PatternFill(patternType = 'solid', fgColor = 'D6DCE4')\n",
        "\n",
        "for row in sheet:\n",
        "  for cell in row:\n",
        "    cell.font = openpyxl.styles.Font(name = 'Calibri', size = 11, italic = False, bold = True, color = '000000')\n",
        "    cell.alignment = openpyxl.styles.Alignment(horizontal = 'center')\n",
        "\n",
        "borderStyle1 = openpyxl.styles.Side(style = 'thin', color = '000000')\n",
        "borderStyle2 = openpyxl.styles.Side(style = 'medium', color = '000000')\n",
        "for row in sheet.iter_rows(min_row = 2, max_row = 8, min_col = 1, max_col = 8):\n",
        "  for cell in row:\n",
        "    cell.border = openpyxl.styles.Border(left = borderStyle1, right = borderStyle1, top = borderStyle1, bottom = borderStyle1)\n",
        "    if cell.column==8:\n",
        "      cell.border = openpyxl.styles.Border(left = borderStyle1, right = borderStyle2, top = borderStyle1, bottom = borderStyle1)\n",
        "    if cell.row==8:\n",
        "      cell.border = openpyxl.styles.Border(left = borderStyle1, right = borderStyle1, top = borderStyle1, bottom = borderStyle2)\n",
        "    if cell.row==8 and cell.column==8:\n",
        "      cell.border = openpyxl.styles.Border(left = borderStyle1, right = borderStyle2, top = borderStyle1, bottom = borderStyle2)\n",
        "\n",
        "for i in range(1,9):\n",
        "  cell=sheet.cell(2, i)\n",
        "  cell.fill=openpyxl.styles.PatternFill(patternType = 'solid', fgColor = 'FFC000')\n",
        "  cell=sheet.cell(1, i)\n",
        "  cell.border = openpyxl.styles.Border(left = borderStyle2, right = borderStyle2, top = borderStyle2, bottom = borderStyle2)\n",
        "\n",
        "for row in sheet.iter_rows(min_row = 3, max_row = 8, min_col = 8, max_col = 8):\n",
        "  for cell in row:\n",
        "    if cell.value <60:\n",
        "      cell.fill=openpyxl.styles.PatternFill(patternType = 'solid', fgColor = 'FF0000')\n",
        "    elif (cell.value >=60) and (cell.value < 90):\n",
        "      cell.fill=openpyxl.styles.PatternFill(patternType = 'solid', fgColor = 'FF7F27')\n",
        "    else:\n",
        "      cell.fill=openpyxl.styles.PatternFill(patternType = 'solid', fgColor = '92D050')\n",
        "\n",
        "sheet.column_dimensions['A'].width = 14\n",
        "sheet.column_dimensions['B'].width = 15\n",
        "sheet.column_dimensions['C'].width = 15.5\n",
        "sheet.column_dimensions['H'].width = 12.5\n",
        "\n",
        "\n",
        "\n",
        "\n"
      ],
      "metadata": {
        "id": "NqlPejuKbsv2"
      },
      "execution_count": null,
      "outputs": []
    },
    {
      "cell_type": "markdown",
      "source": [
        "Mise en forme du tableau croisé selon le modèle donné, puis sauvegarde du fichier final."
      ],
      "metadata": {
        "id": "j1LcJJvB4j-Z"
      }
    },
    {
      "cell_type": "code",
      "source": [
        "sheet = workbook['tab_crois']\n",
        "\n",
        "sheet.cell(8, 1).value = 'Sans département'\n",
        "\n",
        "for row in sheet:\n",
        "  for cell in row:\n",
        "    cell.font = openpyxl.styles.Font(name = 'Calibri', size = 11, italic = False, bold = False, color = '000000')\n",
        "    cell.alignment = openpyxl.styles.Alignment(horizontal = 'center')\n",
        "\n",
        "for i in range(1,14):\n",
        "  cell=sheet.cell(1, i)\n",
        "  cell.fill=openpyxl.styles.PatternFill(patternType = 'solid', fgColor = 'D9E1F2')\n",
        "  cell.font = openpyxl.styles.Font(name = 'Calibri', size = 11, italic = False, bold = True, color = '000000')\n",
        "  cell=sheet.cell(7, i)\n",
        "  cell.fill=openpyxl.styles.PatternFill(patternType = 'solid', fgColor = 'D9E1F2')\n",
        "  cell.font = openpyxl.styles.Font(name = 'Calibri', size = 11, italic = False, bold = True, color = '000000')\n",
        "\n",
        "sheet.column_dimensions['A'].width = 22\n",
        "sheet.column_dimensions['M'].width = 19\n",
        "\n",
        "\n",
        "workbook.save('Synthèse PMA finale.xlsx')"
      ],
      "metadata": {
        "id": "yQDhRCGackp-"
      },
      "execution_count": null,
      "outputs": []
    }
  ]
}